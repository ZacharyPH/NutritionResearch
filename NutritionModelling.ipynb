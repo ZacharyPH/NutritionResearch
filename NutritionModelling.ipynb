{
 "cells": [
  {
   "cell_type": "markdown",
   "metadata": {},
   "source": [
    "### Imports"
   ]
  },
  {
   "cell_type": "code",
   "execution_count": 1,
   "metadata": {},
   "outputs": [],
   "source": [
    "import gurobipy as gp\n",
    "import pandas as pd"
   ]
  },
  {
   "cell_type": "markdown",
   "metadata": {},
   "source": [
    "### Functions"
   ]
  },
  {
   "cell_type": "code",
   "execution_count": 2,
   "metadata": {},
   "outputs": [],
   "source": [
    "def extract(data, row, fact, maximize=True):\n",
    "    text = str(data.iloc[row][fact]).strip(\"mg%?\")\n",
    "    if str(text) == \"nan\" or len(text) == 0:\n",
    "        return maximize * 1_000_000\n",
    "    return float(text)"
   ]
  },
  {
   "cell_type": "code",
   "execution_count": 3,
   "metadata": {},
   "outputs": [],
   "source": [
    "def classify_age(a: int) -> str:\n",
    "    a = round(a, 0)\n",
    "    age_strings = [\"1-3\", \"4-8\", \"9-13\", \"14-18\", \"19-30\", \"31-50\", \"51-110\"]\n",
    "    age_groups = [tuple([int(age) for age in i.split(\"-\")]) for i in age_strings]\n",
    "    for i, age in enumerate(age_groups):\n",
    "        if age[0] <= a <= age[1]:\n",
    "            return age_strings[i]\n",
    "    else:\n",
    "        raise ValueError(f\"{a} is not a valid age\")"
   ]
  },
  {
   "cell_type": "code",
   "execution_count": 4,
   "metadata": {},
   "outputs": [],
   "source": [
    "def init_guide_amts(guide):\n",
    "    print(\"Converting Percents to Amounts...\")\n",
    "    for col in guide.columns:\n",
    "        if \"% kcal\" in col:\n",
    "            print(col)\n",
    "            guide[col[:-6] + \"AMT\"] = pd.Series([0] * len(guide.index))\n",
    "            for row in range(len(guide.index)):\n",
    "                cal_levels = [float(i) for i in str(guide.iloc[row][\"Calorie Level(s)\"]).replace(\",\", \"\").split(\"/\")]\n",
    "                avg_kcals = sum(cal_levels) / len(cal_levels) / 1000\n",
    "                percents = [float(i) for i in str(guide.iloc[row][col]).strip(\"< %\").replace(\",\", \"\").split(\"-\")]\n",
    "                nut_amt = avg_kcals * sum(percents) / len(percents)\n",
    "                guide.loc[:, col[:-6] + \"AMT\"].iloc[row] = nut_amt\n",
    "    return guide"
   ]
  },
  {
   "cell_type": "markdown",
   "metadata": {},
   "source": [
    "### Restaurant / Category Selection"
   ]
  },
  {
   "cell_type": "code",
   "execution_count": 5,
   "metadata": {
    "scrolled": true
   },
   "outputs": [],
   "source": [
    "def filter_subset(df: pd.DataFrame, restaurant: str, categories: list=[]) -> pd.DataFrame:\n",
    "    cats = []  # [\"Breakfast\", \"Beverages\"]\n",
    "    subset = df\n",
    "    subset = subset[subset[\"Restaurant\"] == restaurant]\n",
    "    if categories != []:\n",
    "        subset = subset[subset[\"Common Category\"].isin(categories)]\n",
    "#     if real_meal and not cat_limit:\n",
    "#         bad_cats = [\"Drinks\", \"Beverages\", \"Sauces and Condiments\", \"Coffee\", \"Salad Dressing\"\n",
    "#                     \"Ocean Water\", \"Iced Teas\", \"Limeades\", \"Soft Drinks\", ]\n",
    "#         subset = subset[~subset[\"Category\"].isin(bad_cats)]\n",
    "    subset.reset_index(inplace=True)\n",
    "    return subset  # Contains all viable food entries"
   ]
  },
  {
   "cell_type": "markdown",
   "metadata": {},
   "source": [
    "### File Input"
   ]
  },
  {
   "cell_type": "code",
   "execution_count": 6,
   "metadata": {},
   "outputs": [],
   "source": [
    "\n",
    "def load_ref_files(nutrition_name=\"Nutritional Facts - Categorized\", guidelines_name=\"Dietary Guidelines\"):\n",
    "    df = pd.read_excel(nutrition_name + \".xlsm\", index_col=0)\n",
    "    guide = pd.read_excel(guidelines_name + \".xlsx\", header=1, index_col=[1, 2], skiprows=[2]).drop(\"Unnamed: 0\", axis=1)\n",
    "    guide = init_guide_amts(guide)\n",
    "    return df, guide"
   ]
  },
  {
   "cell_type": "markdown",
   "metadata": {},
   "source": [
    "### Requirement Selection"
   ]
  },
  {
   "cell_type": "code",
   "execution_count": 7,
   "metadata": {},
   "outputs": [],
   "source": [
    "def get_requirements(subset, guide):\n",
    "    filters = {key: value for key in subset.columns for value in guide.index if \"%\" not in key and key + ', mg' == value or key + ', g' == value}\n",
    "    filters.update({\"Total Carbohydrates\": \"Carbohydrate, g\", \"Sugars\": \"Added Sugars, AMT\"})\n",
    "    less_thans = [\"Sodium\", \"Sugars\"]\n",
    "    return filters, less_thans"
   ]
  },
  {
   "cell_type": "code",
   "execution_count": 8,
   "metadata": {
    "scrolled": true
   },
   "outputs": [],
   "source": [
    "def guide_lookup(gender: str, age: int, guide: pd.DataFrame):\n",
    "    genders = {\"m\": \"Male\", \"f\": \"Female\"}\n",
    "    gender = genders[gender[0].lower()]\n",
    "#     print(f\"Nutritional Requirements for a {age} year old {gender}:\")\n",
    "    return guide.loc[gender, classify_age(age)]"
   ]
  },
  {
   "cell_type": "markdown",
   "metadata": {},
   "source": [
    "### Model Building: Variables, Constraints, and Objective"
   ]
  },
  {
   "cell_type": "code",
   "execution_count": 9,
   "metadata": {},
   "outputs": [],
   "source": [
    "def create_model(subset: pd.DataFrame, filters: dict, less_thans: list, guide: pd.DataFrame,\n",
    "                 objective: str = \"Calories From Fat\", min_obj: bool = True, min_cal_cutoff: int = 1,\n",
    "                 real_meal: bool = True, cat_limit: bool = True, meals: int = 2, verbose: bool = True,\n",
    "                 filter_relaxations: list = []):\n",
    "    \"\"\"\n",
    "    Generates the Gurobi model subject to many available filters and options\n",
    "    \n",
    "    :subset: menu items to consider, frequently broken down by restaurant\n",
    "    :filters: dictionary of nutrition requirements (sugars, proteins, etc.). Inequalities may go either way (specified in less_thans)\n",
    "    :less_thans: list of filters where the sum of food nutritions must be less than the guideline (sodium) rather than more (protein)\n",
    "    :guide: dietary recommendations taken from the government's Dietary Guidelines For Americans. TODO: Update to 2020-2025 data\n",
    "    :objective: dietary fact by which the model should be optimized. By default, this is minimized by min_obj\n",
    "    :min_obj: whether the objective ought to minimized (sodium, sugar, calories, etc.) or [False] maximized (protein, vitamins, ...)\n",
    "    :min_cal_cutoff: when non-zero, omits foods from the solution with fewer calories than the cutoff. Default enabled\n",
    "    :real_meal: enforces the minimum calorie cutoff above. Primarily to omit condiments with 'free' nutrition\n",
    "    :cat_limit: requires no more than cat_limit of any one food type in the solution. Prevents 31 apple juice box solutions\n",
    "    :meals: requires the solution to meet only (1 / meals) of each nutrient recommendation. Meals=1 & cat_limit=True usually infeasible\n",
    "    :verbose: provides detailed constraining / solving progress updates. Disable for more concise output\n",
    "    :filter_relaxations: which requirements are allowed to be relaxed if an optimal solution is not otherwise possible. [Sugars, sodium, calories, ...]\n",
    "    \"\"\"\n",
    "    if verbose:\n",
    "        vprint = print\n",
    "    else:\n",
    "        vprint = lambda *x, **y: None\n",
    "    m = gp.Model()\n",
    "    xis = [m.addVar(vtype=gp.GRB.BINARY) for _ in subset.index]  # GRB.BINARY / GRB.INTEGER\n",
    "    f_rel = {fact: m.addVar(name=f\"{fact}_rel\") if fact in filter_relaxations else 0 for fact in filters}\n",
    "    for fact, req in filters.items():  # Nutrition Requirements\n",
    "        if fact in less_thans:\n",
    "            vprint(f\"Constraining {fact}\".ljust(35), f\"<= {round(guide[filters[fact]], 2)}\".ljust(10), f\"across {meals} meals\")\n",
    "            m.addConstr(sum((x * extract(subset, r, fact, maximize=False) for r, x in enumerate(xis))) - f_rel[fact] <= float(guide[filters[fact]]) / meals)\n",
    "        else:\n",
    "            vprint(f\"Constraining {fact}\".ljust(35), f\">= {round(guide[filters[fact]], 2)}\".ljust(10), f\"across {meals} meals\")\n",
    "            m.addConstr(sum((x * extract(subset, r, fact, maximize=False) for r, x in enumerate(xis))) >= float(guide[filters[fact]]) / meals)\n",
    "\n",
    "    if real_meal:\n",
    "        for i, food in enumerate(subset.iloc):  # Excludes zero calorie (from fat) entries\n",
    "            m.addConstr(xis[i] <= extract(subset, i, \"Calories From Fat\", maximize=True) * min_cal_cutoff)\n",
    "\n",
    "    if cat_limit:\n",
    "        vprint()\n",
    "        for cat in pd.unique(subset[\"Common Category\"]):\n",
    "            vprint(f\"Constraining only 1 or fewer {cat.strip('s')} items.\")\n",
    "            m.addConstr(sum([x for i, x in enumerate(xis) if subset[\"Common Category\"][i] == cat]) <= cat_limit)\n",
    "    \n",
    "    m.setParam(\"OutputFlag\", verbose)\n",
    "    m.ModelSense = gp.GRB.MINIMIZE if min_obj else gp.GRB.MAXIMIZE  # Less concise, more clear than '2 * min_obj - 1'\n",
    "    costs = {\"Sugars\": 10, \"Sodium\": 1, \"Calories From Fat\": 1}\n",
    "    overage_cost = [f_rel[fact] * costs[fact] if fact in costs else f_rel[fact] for fact in filters]\n",
    "    m.setObjective(sum((x * extract(subset, r, objective, maximize=True) for r, x in enumerate(xis))) + sum(overage_cost) * 2)\n",
    "    return m"
   ]
  },
  {
   "cell_type": "markdown",
   "metadata": {},
   "source": [
    "### Meal Output"
   ]
  },
  {
   "cell_type": "code",
   "execution_count": 10,
   "metadata": {},
   "outputs": [],
   "source": [
    "def display_details(m, model_args, subset):\n",
    "    best_choices = [i for i, x in enumerate(m.getVars()) if x.x > 0 and \"rel\" not in x.VarName]\n",
    "#     print(sum([m.x[i] for i in best_choices]), \"calories from fat\")  # TODO: Appears to produce incorrect output...\n",
    "    \n",
    "#     print(subset.iloc[best_choices][\"Food\"], \":\")\n",
    "    selection = subset.iloc[best_choices]\n",
    "    print(f\"The following foods will satisfy your requirements across {model_args['meals']} meals, subject to these overages:\", overages)\n",
    "    display(selection)"
   ]
  },
  {
   "cell_type": "markdown",
   "metadata": {},
   "source": [
    "### Open Datasources"
   ]
  },
  {
   "cell_type": "code",
   "execution_count": 11,
   "metadata": {},
   "outputs": [
    {
     "name": "stdout",
     "output_type": "stream",
     "text": [
      "Converting Percents to Amounts...\n",
      "Protein, % kcal\n",
      "Carbohydrate, % kcal\n",
      "Added Sugars, % kcal\n",
      "Total Fat, % kcal\n",
      "Saturated Fat, % kcal\n"
     ]
    },
    {
     "name": "stderr",
     "output_type": "stream",
     "text": [
      "C:\\Users\\zacha\\Anaconda3\\envs\\NutritionResearch\\lib\\site-packages\\pandas\\core\\indexing.py:670: SettingWithCopyWarning: \n",
      "A value is trying to be set on a copy of a slice from a DataFrame\n",
      "\n",
      "See the caveats in the documentation: https://pandas.pydata.org/pandas-docs/stable/user_guide/indexing.html#returning-a-view-versus-a-copy\n",
      "  iloc._setitem_with_indexer(indexer, value)\n"
     ]
    }
   ],
   "source": [
    "df, guide = load_ref_files()\n",
    "age, gender = 25, \"Male\"\n",
    "guide = guide_lookup(gender, age, guide)"
   ]
  },
  {
   "cell_type": "markdown",
   "metadata": {},
   "source": [
    "### Solving"
   ]
  },
  {
   "cell_type": "markdown",
   "metadata": {},
   "source": [
    "#### Traditional: Min Calories from Fat; Relax Sugar & Sodium"
   ]
  },
  {
   "cell_type": "code",
   "execution_count": 15,
   "metadata": {
    "scrolled": true
   },
   "outputs": [
    {
     "name": "stdout",
     "output_type": "stream",
     "text": [
      "\n"
     ]
    },
    {
     "ename": "AttributeError",
     "evalue": "Unable to retrieve attribute 'x'",
     "output_type": "error",
     "traceback": [
      "\u001b[1;31m---------------------------------------------------------------------------\u001b[0m",
      "\u001b[1;31mAttributeError\u001b[0m                            Traceback (most recent call last)",
      "\u001b[1;32m<ipython-input-15-e310019117a8>\u001b[0m in \u001b[0;36m<module>\u001b[1;34m\u001b[0m\n\u001b[0;32m     10\u001b[0m     \u001b[0mm\u001b[0m \u001b[1;33m=\u001b[0m \u001b[0mcreate_model\u001b[0m\u001b[1;33m(\u001b[0m\u001b[1;33m**\u001b[0m\u001b[0mmodel_args\u001b[0m\u001b[1;33m)\u001b[0m\u001b[1;33m\u001b[0m\u001b[1;33m\u001b[0m\u001b[0m\n\u001b[0;32m     11\u001b[0m     \u001b[0mm\u001b[0m\u001b[1;33m.\u001b[0m\u001b[0moptimize\u001b[0m\u001b[1;33m(\u001b[0m\u001b[1;33m)\u001b[0m\u001b[1;33m\u001b[0m\u001b[1;33m\u001b[0m\u001b[0m\n\u001b[1;32m---> 12\u001b[1;33m     \u001b[0moverages\u001b[0m \u001b[1;33m=\u001b[0m \u001b[1;33m[\u001b[0m\u001b[0mx\u001b[0m \u001b[1;32mfor\u001b[0m \u001b[0mi\u001b[0m\u001b[1;33m,\u001b[0m \u001b[0mx\u001b[0m \u001b[1;32min\u001b[0m \u001b[0menumerate\u001b[0m\u001b[1;33m(\u001b[0m\u001b[0mm\u001b[0m\u001b[1;33m.\u001b[0m\u001b[0mgetVars\u001b[0m\u001b[1;33m(\u001b[0m\u001b[1;33m)\u001b[0m\u001b[1;33m)\u001b[0m \u001b[1;32mif\u001b[0m \u001b[0mx\u001b[0m\u001b[1;33m.\u001b[0m\u001b[0mx\u001b[0m \u001b[1;33m>\u001b[0m \u001b[1;36m0\u001b[0m \u001b[1;32mand\u001b[0m \u001b[1;34m\"rel\"\u001b[0m \u001b[1;32min\u001b[0m \u001b[0mx\u001b[0m\u001b[1;33m.\u001b[0m\u001b[0mVarName\u001b[0m\u001b[1;33m]\u001b[0m\u001b[1;33m\u001b[0m\u001b[1;33m\u001b[0m\u001b[0m\n\u001b[0m\u001b[0;32m     13\u001b[0m     \u001b[1;32mif\u001b[0m \u001b[0mm\u001b[0m\u001b[1;33m.\u001b[0m\u001b[0mstatus\u001b[0m \u001b[1;33m!=\u001b[0m \u001b[1;36m2\u001b[0m\u001b[1;33m:\u001b[0m\u001b[1;33m\u001b[0m\u001b[1;33m\u001b[0m\u001b[0m\n\u001b[0;32m     14\u001b[0m \u001b[1;31m#         raise ValueError(\"The model is infeasible - please try again\")\u001b[0m\u001b[1;33m\u001b[0m\u001b[1;33m\u001b[0m\u001b[1;33m\u001b[0m\u001b[0m\n",
      "\u001b[1;32m<ipython-input-15-e310019117a8>\u001b[0m in \u001b[0;36m<listcomp>\u001b[1;34m(.0)\u001b[0m\n\u001b[0;32m     10\u001b[0m     \u001b[0mm\u001b[0m \u001b[1;33m=\u001b[0m \u001b[0mcreate_model\u001b[0m\u001b[1;33m(\u001b[0m\u001b[1;33m**\u001b[0m\u001b[0mmodel_args\u001b[0m\u001b[1;33m)\u001b[0m\u001b[1;33m\u001b[0m\u001b[1;33m\u001b[0m\u001b[0m\n\u001b[0;32m     11\u001b[0m     \u001b[0mm\u001b[0m\u001b[1;33m.\u001b[0m\u001b[0moptimize\u001b[0m\u001b[1;33m(\u001b[0m\u001b[1;33m)\u001b[0m\u001b[1;33m\u001b[0m\u001b[1;33m\u001b[0m\u001b[0m\n\u001b[1;32m---> 12\u001b[1;33m     \u001b[0moverages\u001b[0m \u001b[1;33m=\u001b[0m \u001b[1;33m[\u001b[0m\u001b[0mx\u001b[0m \u001b[1;32mfor\u001b[0m \u001b[0mi\u001b[0m\u001b[1;33m,\u001b[0m \u001b[0mx\u001b[0m \u001b[1;32min\u001b[0m \u001b[0menumerate\u001b[0m\u001b[1;33m(\u001b[0m\u001b[0mm\u001b[0m\u001b[1;33m.\u001b[0m\u001b[0mgetVars\u001b[0m\u001b[1;33m(\u001b[0m\u001b[1;33m)\u001b[0m\u001b[1;33m)\u001b[0m \u001b[1;32mif\u001b[0m \u001b[0mx\u001b[0m\u001b[1;33m.\u001b[0m\u001b[0mx\u001b[0m \u001b[1;33m>\u001b[0m \u001b[1;36m0\u001b[0m \u001b[1;32mand\u001b[0m \u001b[1;34m\"rel\"\u001b[0m \u001b[1;32min\u001b[0m \u001b[0mx\u001b[0m\u001b[1;33m.\u001b[0m\u001b[0mVarName\u001b[0m\u001b[1;33m]\u001b[0m\u001b[1;33m\u001b[0m\u001b[1;33m\u001b[0m\u001b[0m\n\u001b[0m\u001b[0;32m     13\u001b[0m     \u001b[1;32mif\u001b[0m \u001b[0mm\u001b[0m\u001b[1;33m.\u001b[0m\u001b[0mstatus\u001b[0m \u001b[1;33m!=\u001b[0m \u001b[1;36m2\u001b[0m\u001b[1;33m:\u001b[0m\u001b[1;33m\u001b[0m\u001b[1;33m\u001b[0m\u001b[0m\n\u001b[0;32m     14\u001b[0m \u001b[1;31m#         raise ValueError(\"The model is infeasible - please try again\")\u001b[0m\u001b[1;33m\u001b[0m\u001b[1;33m\u001b[0m\u001b[1;33m\u001b[0m\u001b[0m\n",
      "\u001b[1;32msrc\\gurobipy\\var.pxi\u001b[0m in \u001b[0;36mgurobipy.gurobipy.Var.__getattr__\u001b[1;34m()\u001b[0m\n",
      "\u001b[1;32msrc\\gurobipy\\var.pxi\u001b[0m in \u001b[0;36mgurobipy.gurobipy.Var.getAttr\u001b[1;34m()\u001b[0m\n",
      "\u001b[1;32msrc\\gurobipy\\attrutil.pxi\u001b[0m in \u001b[0;36mgurobipy.gurobipy.__getattr\u001b[1;34m()\u001b[0m\n",
      "\u001b[1;31mAttributeError\u001b[0m: Unable to retrieve attribute 'x'"
     ]
    }
   ],
   "source": [
    "for res in pd.unique(df[\"Restaurant\"]):\n",
    "    print()\n",
    "    subset = filter_subset(df, res)\n",
    "    filters, less_thans = get_requirements(subset, guide)\n",
    "    filter_relaxations = [\"Sugars\", \"Sodium\", \"Calories From Fat\"]\n",
    "    objective = filter_relaxations.pop(0)  # This number sets the objective function according to the list index above (0=Sugars)\n",
    "    model_args = {\"subset\": subset, \"filters\": filters, \"less_thans\": less_thans,\n",
    "                  \"objective\": objective, \"min_obj\": True, \"guide\": guide,\n",
    "                  \"verbose\": False, \"filter_relaxations\": filter_relaxations, \"meals\": 2,\n",
    "                  \"cat_limit\": 2}\n",
    "    m = create_model(**model_args)\n",
    "    m.optimize()\n",
    "    overages = [x for i, x in enumerate(m.getVars()) if x.x > 0 and \"rel\" in x.VarName]\n",
    "    if m.status != 2:\n",
    "#         raise ValueError(\"The model is infeasible - please try again\")\n",
    "        print(f\"The {res} model is infeasible. Continuing...\")\n",
    "    else:\n",
    "#         objval = sum([x.x * subset.loc[:, \"Calories From Fat\"].iloc[i] if \"rel\" not in x.VarName else 0 for i, x in enumerate(m.getVars())])\n",
    "        if sum([v.x for v in overages]) == 0:\n",
    "            print(f\"The {res} model is feasible:\", \"\\t\" * 5, \"<\" + \"-\" * 10)\n",
    "        else:\n",
    "            print(f\"The {res} model is feasible with the following relaxations:\\t\\t\", overages)\n",
    "    directions = input(f\"'S'olve next restaurant (default); 'E'xit this loop; 'D'etails about current solution; [S/E/D] \")\n",
    "    if len(directions) == 0 or directions[0].upper() == \"S\":\n",
    "        continue\n",
    "    if directions[0].upper() == \"D\":\n",
    "        display_details(m, model_args, subset)\n",
    "    if directions[0].upper() == \"E\":\n",
    "        break"
   ]
  },
  {
   "cell_type": "markdown",
   "metadata": {},
   "source": [
    "\n",
    "#### Alternate 1: Min Sodium; Relax Calories From Fat and Sugar"
   ]
  },
  {
   "cell_type": "code",
   "execution_count": null,
   "metadata": {},
   "outputs": [],
   "source": []
  }
 ],
 "metadata": {
  "kernelspec": {
   "display_name": "Python [conda env:NutritionResearch]",
   "language": "python",
   "name": "conda-env-NutritionResearch-py"
  },
  "language_info": {
   "codemirror_mode": {
    "name": "ipython",
    "version": 3
   },
   "file_extension": ".py",
   "mimetype": "text/x-python",
   "name": "python",
   "nbconvert_exporter": "python",
   "pygments_lexer": "ipython3",
   "version": "3.8.5"
  }
 },
 "nbformat": 4,
 "nbformat_minor": 4
}
