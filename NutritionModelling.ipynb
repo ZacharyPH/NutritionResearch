{
 "cells": [
  {
   "cell_type": "markdown",
   "metadata": {},
   "source": [
    "### Imports"
   ]
  },
  {
   "cell_type": "code",
   "execution_count": 1,
   "metadata": {},
   "outputs": [],
   "source": [
    "import gurobipy as gp\n",
    "import pandas as pd"
   ]
  },
  {
   "cell_type": "markdown",
   "metadata": {},
   "source": [
    "### Functions"
   ]
  },
  {
   "cell_type": "code",
   "execution_count": 2,
   "metadata": {},
   "outputs": [],
   "source": [
    "def extract(data, row, fact, maximize=True):\n",
    "    text = str(data.iloc[row][fact]).strip(\"mg%?\")\n",
    "    if str(text) == \"nan\" or len(text) == 0:\n",
    "        return maximize * 1_000_000\n",
    "    return float(text)"
   ]
  },
  {
   "cell_type": "code",
   "execution_count": 3,
   "metadata": {},
   "outputs": [],
   "source": [
    "def classify_age(a: int) -> str:\n",
    "    a = round(a, 0)\n",
    "    age_strings = [\"1-3\", \"4-8\", \"9-13\", \"14-18\", \"19-30\", \"31-50\", \"51-110\"]\n",
    "    age_groups = [tuple([int(age) for age in i.split(\"-\")]) for i in age_strings]\n",
    "    for i, age in enumerate(age_groups):\n",
    "        if age[0] <= a <= age[1]:\n",
    "            return age_strings[i]\n",
    "    else:\n",
    "        raise ValueError(f\"{a} is not a valid age\")"
   ]
  },
  {
   "cell_type": "code",
   "execution_count": 4,
   "metadata": {},
   "outputs": [],
   "source": [
    "def init_guide_amts(guide):\n",
    "    print(\"Converting Percents to Amounts...\")\n",
    "    for col in guide.columns:\n",
    "        if \"% kcal\" in col:\n",
    "            print(col)\n",
    "            guide[col[:-6] + \"AMT\"] = pd.Series([0] * len(guide.index))\n",
    "            for row in range(len(guide.index)):\n",
    "                cal_levels = [float(i) for i in str(guide.iloc[row][\"Calorie Level(s)\"]).replace(\",\", \"\").split(\"/\")]\n",
    "                avg_kcals = sum(cal_levels) / len(cal_levels) / 1000\n",
    "                percents = [float(i) for i in str(guide.iloc[row][col]).strip(\"< %\").replace(\",\", \"\").split(\"-\")]\n",
    "                nut_amt = avg_kcals * sum(percents) / len(percents)\n",
    "                guide[col[:-6] + \"AMT\"].iloc[row] = nut_amt\n",
    "    return guide"
   ]
  },
  {
   "cell_type": "markdown",
   "metadata": {},
   "source": [
    "### Restaurant / Category Selection"
   ]
  },
  {
   "cell_type": "code",
   "execution_count": 5,
   "metadata": {
    "scrolled": true
   },
   "outputs": [],
   "source": [
    "def filter_subset(df: pd.DataFrame, restaurant: str, categories: list=[]) -> pd.DataFrame:\n",
    "    cats = []  # [\"Breakfast\", \"Beverages\"]\n",
    "    subset = df\n",
    "    subset = subset[subset[\"Restaurant\"] == restaurant]\n",
    "    if categories != []:\n",
    "        subset = subset[subset[\"Common Category\"].isin(categories)]\n",
    "#     if real_meal and not cat_limit:\n",
    "#         bad_cats = [\"Drinks\", \"Beverages\", \"Sauces and Condiments\", \"Coffee\", \"Salad Dressing\"\n",
    "#                     \"Ocean Water\", \"Iced Teas\", \"Limeades\", \"Soft Drinks\", ]\n",
    "#         subset = subset[~subset[\"Category\"].isin(bad_cats)]\n",
    "    subset.reset_index(inplace=True)\n",
    "    return subset  # Contains all viable food entries"
   ]
  },
  {
   "cell_type": "markdown",
   "metadata": {},
   "source": [
    "### File Input"
   ]
  },
  {
   "cell_type": "code",
   "execution_count": 6,
   "metadata": {},
   "outputs": [],
   "source": [
    "\n",
    "def load_ref_files(nutrition_name=\"Nutritional Facts\", guidelines_name=\"Dietary Guidelines\"):\n",
    "    df = pd.read_excel(nutrition_name + \".xlsm\", index_col=0)\n",
    "    guide = pd.read_excel(guidelines_name + \".xlsx\", header=1, index_col=[1, 2], skiprows=[2]).drop(\"Unnamed: 0\", axis=1)\n",
    "    guide = init_guide_amts(guide)\n",
    "    return df, guide"
   ]
  },
  {
   "cell_type": "markdown",
   "metadata": {},
   "source": [
    "### Requirement Selection"
   ]
  },
  {
   "cell_type": "code",
   "execution_count": 7,
   "metadata": {},
   "outputs": [],
   "source": [
    "def get_requirements(subset, guide):\n",
    "    filters = {key: value for key in subset.columns for value in guide.index if \"%\" not in key and key + ', mg' == value or key + ', g' == value}\n",
    "    filters.update({\"Total Carbohydrates\": \"Carbohydrate, g\", \"Sugars\": \"Added Sugars, AMT\"})\n",
    "    less_thans = [\"Sodium\", \"Sugars\"]\n",
    "    return filters, less_thans"
   ]
  },
  {
   "cell_type": "code",
   "execution_count": 8,
   "metadata": {
    "scrolled": true
   },
   "outputs": [],
   "source": [
    "def guide_lookup(gender: str, age: int, guide: pd.DataFrame):\n",
    "    genders = {\"m\": \"Male\", \"f\": \"Female\"}\n",
    "    gender = genders[gender[0].lower()]\n",
    "#     print(f\"Nutritional Requirements for a {age} year old {gender}:\")\n",
    "    return guide.loc[gender, classify_age(age)]"
   ]
  },
  {
   "cell_type": "markdown",
   "metadata": {},
   "source": [
    "### Model Building: Variables, Constraints, and Objective"
   ]
  },
  {
   "cell_type": "code",
   "execution_count": 18,
   "metadata": {},
   "outputs": [],
   "source": [
    "def create_model(subset, filters, less_thans, guide, min_cal_cutoff=1, real_meal=True, cat_limit=True, meals=2, verbose=True, filter_relaxations=[]):\n",
    "    if verbose:\n",
    "        vprint = print\n",
    "    else:\n",
    "        vprint = lambda *x, **y: None\n",
    "    m = gp.Model()\n",
    "    xis = [m.addVar(vtype=gp.GRB.BINARY) for _ in subset.index]  # GRB.BINARY / GRB.INTEGER\n",
    "    f_rel = {fact: m.addVar(name=f\"{fact}_rel\") if fact in filter_relaxations else 0 for fact in filters}\n",
    "    for fact, req in filters.items():  # Nutrition Requirements\n",
    "        if fact in less_thans:\n",
    "            vprint(f\"Constraining {fact}\".ljust(35), f\"<= {round(guide[filters[fact]], 2)}\".ljust(10), f\"across {meals} meals\")\n",
    "            m.addConstr(sum((x * extract(subset, r, fact, maximize=False) for r, x in enumerate(xis))) - f_rel[fact] <= float(guide[filters[fact]]) / meals)\n",
    "        else:\n",
    "            vprint(f\"Constraining {fact}\".ljust(35), f\">= {round(guide[filters[fact]], 2)}\".ljust(10), f\"across {meals} meals\")\n",
    "            m.addConstr(sum((x * extract(subset, r, fact, maximize=False) for r, x in enumerate(xis))) >= float(guide[filters[fact]]) / meals)\n",
    "\n",
    "    if real_meal:\n",
    "        for i, food in enumerate(subset.iloc):  # Excludes zero calorie (from fat) entries\n",
    "            m.addConstr(xis[i] <= extract(subset, i, \"Calories From Fat\", maximize=True) * min_cal_cutoff)\n",
    "\n",
    "    if cat_limit:\n",
    "        vprint()\n",
    "        for cat in pd.unique(subset[\"Common Category\"]):\n",
    "            vprint(f\"Constraining only 1 or fewer {cat.strip('s')} items.\")\n",
    "            m.addConstr(sum([x for i, x in enumerate(xis) if subset[\"Common Category\"][i] == cat]) <= 1)\n",
    "    \n",
    "    m.setParam(\"OutputFlag\", bool(verbose))\n",
    "    m.ModelSense = gp.GRB.MINIMIZE\n",
    "    costs = {\"Sugars\": 10, \"Sodium\": 1}\n",
    "    overage_cost = [f_rel[fact] * costs[fact] if fact in costs else f_rel[fact] for fact in filters]\n",
    "    m.setObjective(sum((x * extract(subset, r, \"Calories From Fat\", maximize=True) for r, x in enumerate(xis))) + sum(overage_cost) * 2)\n",
    "    return m"
   ]
  },
  {
   "cell_type": "markdown",
   "metadata": {},
   "source": [
    "### Meal Output"
   ]
  },
  {
   "cell_type": "code",
   "execution_count": 34,
   "metadata": {},
   "outputs": [],
   "source": [
    "def display_details(m, model_args, subset):\n",
    "    best_choices = [i for i, x in enumerate(m.getVars()) if x.x > 0 and \"rel\" not in x.VarName]\n",
    "#     print(sum([m.x[i] for i in best_choices]), \"calories from fat\")  # TODO: Appears to produce incorrect output...\n",
    "    \n",
    "#     print(subset.iloc[best_choices][\"Food\"], \":\")\n",
    "    selection = subset.iloc[best_choices]\n",
    "    print(f\"The following foods will satisfy your requirements across {model_args['meals']} meals, subject to these overages:\", overages)\n",
    "    display(selection)"
   ]
  },
  {
   "cell_type": "markdown",
   "metadata": {},
   "source": [
    "### Open Datasources"
   ]
  },
  {
   "cell_type": "code",
   "execution_count": 32,
   "metadata": {},
   "outputs": [
    {
     "name": "stdout",
     "output_type": "stream",
     "text": [
      "Converting Percents to Amounts...\n",
      "Protein, % kcal\n",
      "Carbohydrate, % kcal\n",
      "Added Sugars, % kcal\n",
      "Total Fat, % kcal\n",
      "Saturated Fat, % kcal\n"
     ]
    }
   ],
   "source": [
    "df, guide = load_ref_files()\n",
    "age, gender = 25, \"Male\"\n",
    "guide = guide_lookup(gender, age, guide)  # If this cell fails, it's probably because you're overwriting guide too soo - get_reqs wants the full table"
   ]
  },
  {
   "cell_type": "markdown",
   "metadata": {},
   "source": [
    "### Solving"
   ]
  },
  {
   "cell_type": "code",
   "execution_count": 36,
   "metadata": {},
   "outputs": [
    {
     "name": "stdout",
     "output_type": "stream",
     "text": [
      "\n",
      "The Arby's model is feasible with the following relaxations:\t\t [<gurobi.Var Sugars_rel (value 40.91111111111111)>]\n",
      "'S'olve next restaurant; 'E'xit this loop; 'D'etails about current solution; [S/E/D]\n",
      "\n",
      "The Baskin-Robbins model is feasible with the following relaxations:\t\t [<gurobi.Var Sugars_rel (value 143.9111111111111)>]\n",
      "'S'olve next restaurant; 'E'xit this loop; 'D'etails about current solution; [S/E/D]\n",
      "\n",
      "The Blimpie model is feasible with the following relaxations:\t\t [<gurobi.Var Sugars_rel (value 3.9111111111111097)>]\n",
      "'S'olve next restaurant; 'E'xit this loop; 'D'etails about current solution; [S/E/D]d\n",
      "2.0 calories from fat\n",
      "107      Chicken Caesar\n",
      "123    Popcorn, regular\n",
      "Name: Food, dtype: object :\n",
      "The following foods will satisfy your requirements across 3 meals, subject to these overages: [<gurobi.Var Sugars_rel (value 3.9111111111111097)>]\n"
     ]
    },
    {
     "data": {
      "text/html": [
       "<div>\n",
       "<style scoped>\n",
       "    .dataframe tbody tr th:only-of-type {\n",
       "        vertical-align: middle;\n",
       "    }\n",
       "\n",
       "    .dataframe tbody tr th {\n",
       "        vertical-align: top;\n",
       "    }\n",
       "\n",
       "    .dataframe thead th {\n",
       "        text-align: right;\n",
       "    }\n",
       "</style>\n",
       "<table border=\"1\" class=\"dataframe\">\n",
       "  <thead>\n",
       "    <tr style=\"text-align: right;\">\n",
       "      <th></th>\n",
       "      <th>index</th>\n",
       "      <th>Restaurant</th>\n",
       "      <th>Category</th>\n",
       "      <th>Food</th>\n",
       "      <th>Serving Size</th>\n",
       "      <th>Calories From Fat</th>\n",
       "      <th>Calories</th>\n",
       "      <th>Total Fat</th>\n",
       "      <th>Saturated Fat</th>\n",
       "      <th>Trans Fat</th>\n",
       "      <th>...</th>\n",
       "      <th>Total Fat %</th>\n",
       "      <th>Saturated Fat %</th>\n",
       "      <th>Cholesterol %</th>\n",
       "      <th>Sodium %</th>\n",
       "      <th>Total Carbohydrates %</th>\n",
       "      <th>Dietary Fiber %</th>\n",
       "      <th>Protein %</th>\n",
       "      <th>Vitamin A %</th>\n",
       "      <th>URL</th>\n",
       "      <th>Common Category</th>\n",
       "    </tr>\n",
       "  </thead>\n",
       "  <tbody>\n",
       "    <tr>\n",
       "      <th>107</th>\n",
       "      <td>501</td>\n",
       "      <td>Blimpie</td>\n",
       "      <td>Salads</td>\n",
       "      <td>Chicken Caesar</td>\n",
       "      <td>269 g</td>\n",
       "      <td>70</td>\n",
       "      <td>190</td>\n",
       "      <td>7g</td>\n",
       "      <td>4.0g</td>\n",
       "      <td>0.0g</td>\n",
       "      <td>...</td>\n",
       "      <td>11%</td>\n",
       "      <td>20%</td>\n",
       "      <td>23%</td>\n",
       "      <td>25%</td>\n",
       "      <td>2%</td>\n",
       "      <td>12%</td>\n",
       "      <td>54%</td>\n",
       "      <td>110%</td>\n",
       "      <td>https://fastfoodnutrition.org/blimpie/chicken-...</td>\n",
       "      <td>Salads</td>\n",
       "    </tr>\n",
       "    <tr>\n",
       "      <th>123</th>\n",
       "      <td>517</td>\n",
       "      <td>Blimpie</td>\n",
       "      <td>Sides, Snacks and Desserts</td>\n",
       "      <td>Popcorn, regular</td>\n",
       "      <td>4.0 oz</td>\n",
       "      <td>290</td>\n",
       "      <td>590</td>\n",
       "      <td>32g</td>\n",
       "      <td>6.0g</td>\n",
       "      <td>0.0g</td>\n",
       "      <td>...</td>\n",
       "      <td>49%</td>\n",
       "      <td>30%</td>\n",
       "      <td>0%</td>\n",
       "      <td>0%</td>\n",
       "      <td>22%</td>\n",
       "      <td>44%</td>\n",
       "      <td>20%</td>\n",
       "      <td>4%</td>\n",
       "      <td>https://fastfoodnutrition.org/blimpie/popcorn/...</td>\n",
       "      <td>Desserts</td>\n",
       "    </tr>\n",
       "  </tbody>\n",
       "</table>\n",
       "<p>2 rows × 26 columns</p>\n",
       "</div>"
      ],
      "text/plain": [
       "     index Restaurant                    Category              Food  \\\n",
       "107    501    Blimpie                      Salads    Chicken Caesar   \n",
       "123    517    Blimpie  Sides, Snacks and Desserts  Popcorn, regular   \n",
       "\n",
       "    Serving Size Calories From Fat Calories Total Fat Saturated Fat Trans Fat  \\\n",
       "107        269 g                70      190        7g          4.0g      0.0g   \n",
       "123       4.0 oz               290      590       32g          6.0g      0.0g   \n",
       "\n",
       "     ... Total Fat % Saturated Fat % Cholesterol % Sodium %  \\\n",
       "107  ...         11%             20%           23%      25%   \n",
       "123  ...         49%             30%            0%       0%   \n",
       "\n",
       "    Total Carbohydrates % Dietary Fiber % Protein % Vitamin A %  \\\n",
       "107                    2%             12%       54%        110%   \n",
       "123                   22%             44%       20%          4%   \n",
       "\n",
       "                                                   URL Common Category  \n",
       "107  https://fastfoodnutrition.org/blimpie/chicken-...          Salads  \n",
       "123  https://fastfoodnutrition.org/blimpie/popcorn/...        Desserts  \n",
       "\n",
       "[2 rows x 26 columns]"
      ]
     },
     "metadata": {},
     "output_type": "display_data"
    },
    {
     "name": "stdout",
     "output_type": "stream",
     "text": [
      "\n",
      "The Boston Market model is feasible with the following relaxations:\t\t [<gurobi.Var Sodium_rel (value 783.3333333333334)>, <gurobi.Var Sugars_rel (value 8.911111111111104)>]\n",
      "'S'olve next restaurant; 'E'xit this loop; 'D'etails about current solution; [S/E/D]e\n"
     ]
    }
   ],
   "source": [
    "for res in pd.unique(df[\"Restaurant\"]):\n",
    "    print()\n",
    "    subset = filter_subset(df, res)\n",
    "    filters, less_thans = get_requirements(subset, guide)\n",
    "    filter_relaxations = [\"Sugars\", \"Sodium\"]\n",
    "    model_args = {\"subset\": subset, \"filters\": filters, \"less_thans\": less_thans,\n",
    "                  \"guide\": guide, \"verbose\": False, \"filter_relaxations\": filter_relaxations,\n",
    "                  \"meals\": 3}\n",
    "    m = create_model(**model_args)\n",
    "    m.optimize()\n",
    "    overages = [x for i, x in enumerate(m.getVars()) if x.x > 0 and \"rel\" in x.VarName]\n",
    "    if m.status != 2:\n",
    "#         raise ValueError(\"The model is infeasible - please try again\")\n",
    "        print(f\"The {res} model is infeasible. Continuing...\")\n",
    "    else:\n",
    "        if sum([v.x for v in overages]) == 0:\n",
    "            print(f\"The {res} model is feasible\", \"\\t\" * 5, \"<\" + \"-\" * 10)\n",
    "        else:\n",
    "            print(f\"The {res} model is feasible with the following relaxations:\\t\\t\", overages)\n",
    "    directions = input(f\"'S'olve next restaurant; 'E'xit this loop; 'D'etails about current solution; [S/E/D] \")\n",
    "    if len(directions) == 0 or directions[0].upper() == \"S\":\n",
    "        continue\n",
    "    if directions[0].upper() == \"D\":\n",
    "        display_details(m, model_args, subset)\n",
    "    if directions[0].upper() == \"E\":\n",
    "        break"
   ]
  },
  {
   "cell_type": "code",
   "execution_count": null,
   "metadata": {},
   "outputs": [],
   "source": []
  }
 ],
 "metadata": {
  "kernelspec": {
   "display_name": "Python [conda env:NutritionResearch]",
   "language": "python",
   "name": "conda-env-NutritionResearch-py"
  },
  "language_info": {
   "codemirror_mode": {
    "name": "ipython",
    "version": 3
   },
   "file_extension": ".py",
   "mimetype": "text/x-python",
   "name": "python",
   "nbconvert_exporter": "python",
   "pygments_lexer": "ipython3",
   "version": "3.7.9"
  }
 },
 "nbformat": 4,
 "nbformat_minor": 4
}
